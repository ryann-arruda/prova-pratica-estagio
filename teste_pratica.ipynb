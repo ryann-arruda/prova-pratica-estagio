{
 "cells": [
  {
   "cell_type": "code",
   "execution_count": 49,
   "metadata": {},
   "outputs": [],
   "source": [
    "import json\n",
    "import numpy as np"
   ]
  },
  {
   "cell_type": "markdown",
   "metadata": {},
   "source": [
    "## **Questão 1**"
   ]
  },
  {
   "cell_type": "code",
   "execution_count": 1,
   "metadata": {},
   "outputs": [],
   "source": [
    "INDICE = 13\n",
    "SOMA = 0\n",
    "K = 0"
   ]
  },
  {
   "cell_type": "code",
   "execution_count": 2,
   "metadata": {},
   "outputs": [
    {
     "name": "stdout",
     "output_type": "stream",
     "text": [
      "91\n"
     ]
    }
   ],
   "source": [
    "while K < INDICE:\n",
    "    K = K + 1\n",
    "    SOMA = SOMA + K\n",
    "\n",
    "print(SOMA)"
   ]
  },
  {
   "cell_type": "markdown",
   "metadata": {},
   "source": [
    "## **Questão 2**"
   ]
  },
  {
   "cell_type": "code",
   "execution_count": 16,
   "metadata": {},
   "outputs": [],
   "source": [
    "def fib(n):\n",
    "    if n == 1:\n",
    "        return 1\n",
    "    elif n == 0:\n",
    "        return 0\n",
    "    \n",
    "    return fib(n - 1) + fib(n - 2)"
   ]
  },
  {
   "cell_type": "code",
   "execution_count": 29,
   "metadata": {},
   "outputs": [],
   "source": [
    "def pertence(num):\n",
    "    fibonacci_num = [fib(i) for i in range(num + 1)]\n",
    "\n",
    "    if num in fibonacci_num:\n",
    "        return \"Pertence\"\n",
    "    else:\n",
    "        return \"Não pertence\""
   ]
  },
  {
   "cell_type": "code",
   "execution_count": 33,
   "metadata": {},
   "outputs": [
    {
     "data": {
      "text/plain": [
       "'Pertence'"
      ]
     },
     "execution_count": 33,
     "metadata": {},
     "output_type": "execute_result"
    }
   ],
   "source": [
    "pertence(13)"
   ]
  },
  {
   "cell_type": "markdown",
   "metadata": {},
   "source": [
    "## **Questão 3**"
   ]
  },
  {
   "cell_type": "markdown",
   "metadata": {},
   "source": [
    "**OBS:** Os dados de faturamento foram gerados por meio da ferramenta de inteligência artificial ChatGPT, devido ao fato de não ter sido disponibilizado na prova prática."
   ]
  },
  {
   "cell_type": "code",
   "execution_count": 46,
   "metadata": {},
   "outputs": [],
   "source": [
    "dados = \"\"\"\n",
    "{\n",
    "    \"month\": \"August\",\n",
    "    \"year\": 2024,\n",
    "    \"revenue\": [\n",
    "        {\"date\": \"2024-08-01\", \"amount\": 1000.00},\n",
    "        {\"date\": \"2024-08-02\", \"amount\": 1500.00},\n",
    "        {\"date\": \"2024-08-03\", \"amount\": 0.00},   \n",
    "        {\"date\": \"2024-08-04\", \"amount\": 0.00},   \n",
    "        {\"date\": \"2024-08-05\", \"amount\": 2000.00},\n",
    "        {\"date\": \"2024-08-06\", \"amount\": 2500.00},\n",
    "        {\"date\": \"2024-08-07\", \"amount\": 2200.00},\n",
    "        {\"date\": \"2024-08-08\", \"amount\": 1700.00},\n",
    "        {\"date\": \"2024-08-09\", \"amount\": 3000.00},\n",
    "        {\"date\": \"2024-08-10\", \"amount\": 0.00}, \n",
    "        {\"date\": \"2024-08-11\", \"amount\": 0.00}, \n",
    "        {\"date\": \"2024-08-12\", \"amount\": 2800.00},\n",
    "        {\"date\": \"2024-08-13\", \"amount\": 2400.00},\n",
    "        {\"date\": \"2024-08-14\", \"amount\": 2300.00},\n",
    "        {\"date\": \"2024-08-15\", \"amount\": 0.00},    \n",
    "        {\"date\": \"2024-08-16\", \"amount\": 3200.00},\n",
    "        {\"date\": \"2024-08-17\", \"amount\": 0.00},   \n",
    "        {\"date\": \"2024-08-18\", \"amount\": 0.00},    \n",
    "        {\"date\": \"2024-08-19\", \"amount\": 3400.00},\n",
    "        {\"date\": \"2024-08-20\", \"amount\": 2100.00},\n",
    "        {\"date\": \"2024-08-21\", \"amount\": 2600.00},\n",
    "        {\"date\": \"2024-08-22\", \"amount\": 2700.00},\n",
    "        {\"date\": \"2024-08-23\", \"amount\": 3300.00},\n",
    "        {\"date\": \"2024-08-24\", \"amount\": 0.00}, \n",
    "        {\"date\": \"2024-08-25\", \"amount\": 0.00},   \n",
    "        {\"date\": \"2024-08-26\", \"amount\": 2900.00},\n",
    "        {\"date\": \"2024-08-27\", \"amount\": 3100.00},\n",
    "        {\"date\": \"2024-08-28\", \"amount\": 3500.00},\n",
    "        {\"date\": \"2024-08-29\", \"amount\": 3600.00},\n",
    "        {\"date\": \"2024-08-30\", \"amount\": 3700.00},\n",
    "        {\"date\": \"2024-08-31\", \"amount\": 0.00}   \n",
    "    ]\n",
    "}\n",
    "\"\"\""
   ]
  },
  {
   "cell_type": "code",
   "execution_count": 47,
   "metadata": {},
   "outputs": [],
   "source": [
    "obj_json = json.loads(dados) "
   ]
  },
  {
   "cell_type": "code",
   "execution_count": 87,
   "metadata": {},
   "outputs": [],
   "source": [
    "def carregar_faturamento():\n",
    "    faturamento_diario = []\n",
    "    media_faturamento = 0.0\n",
    "\n",
    "    for dados_dia in obj_json['revenue']:\n",
    "        faturamento = float(dados_dia['amount'])\n",
    "        media_faturamento += faturamento\n",
    "        faturamento_diario.append(faturamento)\n",
    "\n",
    "    faturamento_diario = np.array(faturamento_diario)\n",
    "\n",
    "    faturamento_diario.sort() # O(nlogn)\n",
    "\n",
    "    media_faturamento /= faturamento_diario.shape[0]\n",
    "    faturamento_sup_media = faturamento_diario[faturamento_diario > media_faturamento]\n",
    "\n",
    "    return {\"menor_faturamento\": faturamento_diario[0], \n",
    "            \"maior_faturamento\": faturamento_diario[-1], \n",
    "            \"qtd_dias_faturamento_sup_media\": faturamento_sup_media.shape[0]}"
   ]
  },
  {
   "cell_type": "code",
   "execution_count": 89,
   "metadata": {},
   "outputs": [],
   "source": [
    "relatorio = carregar_faturamento()"
   ]
  },
  {
   "cell_type": "code",
   "execution_count": 91,
   "metadata": {},
   "outputs": [
    {
     "name": "stdout",
     "output_type": "stream",
     "text": [
      "O menor valor de faturamento ocorrido em um dia do mês:  0.0\n",
      "O maior valor de faturamento ocorrido em um dia do mês:  3700.0\n",
      "Número de dias no mês em que o valor de faturamento diário foi superior à média mensal:  18\n"
     ]
    }
   ],
   "source": [
    "print(\"O menor valor de faturamento ocorrido em um dia do mês: \", relatorio['menor_faturamento'])\n",
    "print(\"O maior valor de faturamento ocorrido em um dia do mês: \", relatorio['maior_faturamento'])\n",
    "print(\"Número de dias no mês em que o valor de faturamento diário foi superior à média mensal: \", relatorio['qtd_dias_faturamento_sup_media'])"
   ]
  },
  {
   "cell_type": "markdown",
   "metadata": {},
   "source": [
    "## **Questão 4**"
   ]
  },
  {
   "cell_type": "code",
   "execution_count": 92,
   "metadata": {},
   "outputs": [],
   "source": [
    "faturamento_mensal_dist = {\n",
    "    \"SP\": 67836.43 ,\n",
    "    \"RJ\": 36678.66 ,\n",
    "    \"MG\": 29229.88 ,\n",
    "    \"ES\": 27165.48 ,\n",
    "    \"Outros\": 19849.53 \n",
    "}"
   ]
  },
  {
   "cell_type": "code",
   "execution_count": 109,
   "metadata": {},
   "outputs": [],
   "source": [
    "def percentual_rep_estado(faturamento_mensal_dist):\n",
    "    valor_total = np.sum(list(faturamento_mensal_dist.values()))\n",
    "\n",
    "    percentual_estado = {}\n",
    "    for i in faturamento_mensal_dist.keys():\n",
    "        percentual_estado[i] = faturamento_mensal_dist[i]/valor_total * 100.0\n",
    "    \n",
    "    return percentual_estado"
   ]
  },
  {
   "cell_type": "code",
   "execution_count": 121,
   "metadata": {},
   "outputs": [],
   "source": [
    "def exibir_percentual_formatado(dados_percentuais):\n",
    "\n",
    "    print(\"Percentual de representação que cada estado teve dentro do valor total mensal da distribuidora: \")\n",
    "    for i in dados_percentuais:\n",
    "        print(\"{0} : {1} %\".format(i, np.round(dados_percentuais[i])))"
   ]
  },
  {
   "cell_type": "code",
   "execution_count": 122,
   "metadata": {},
   "outputs": [
    {
     "name": "stdout",
     "output_type": "stream",
     "text": [
      "Percentual de representação que cada estado teve dentro do valor total mensal da distribuidora: \n",
      "SP : 38.0 %\n",
      "RJ : 20.0 %\n",
      "MG : 16.0 %\n",
      "ES : 15.0 %\n",
      "Outros : 11.0 %\n"
     ]
    }
   ],
   "source": [
    "dados_percentuais = percentual_rep_estado(faturamento_mensal_dist)\n",
    "exibir_percentual_formatado(dados_percentuais)"
   ]
  },
  {
   "cell_type": "markdown",
   "metadata": {},
   "source": [
    "## **Questão 5**"
   ]
  },
  {
   "cell_type": "code",
   "execution_count": 144,
   "metadata": {},
   "outputs": [],
   "source": [
    "def inverter_str(string):\n",
    "    string_revertida = \"\"\n",
    "\n",
    "    for i in range(len(string) - 1, -1, -1):\n",
    "        string_revertida += string[i]\n",
    "\n",
    "    return string_revertida"
   ]
  },
  {
   "cell_type": "code",
   "execution_count": 145,
   "metadata": {},
   "outputs": [],
   "source": [
    "string = \"bom dia\""
   ]
  },
  {
   "cell_type": "code",
   "execution_count": 146,
   "metadata": {},
   "outputs": [
    {
     "data": {
      "text/plain": [
       "'aid mob'"
      ]
     },
     "execution_count": 146,
     "metadata": {},
     "output_type": "execute_result"
    }
   ],
   "source": [
    "inverter_str(string)"
   ]
  }
 ],
 "metadata": {
  "kernelspec": {
   "display_name": "Python 3",
   "language": "python",
   "name": "python3"
  },
  "language_info": {
   "codemirror_mode": {
    "name": "ipython",
    "version": 3
   },
   "file_extension": ".py",
   "mimetype": "text/x-python",
   "name": "python",
   "nbconvert_exporter": "python",
   "pygments_lexer": "ipython3",
   "version": "3.9.7"
  }
 },
 "nbformat": 4,
 "nbformat_minor": 2
}
